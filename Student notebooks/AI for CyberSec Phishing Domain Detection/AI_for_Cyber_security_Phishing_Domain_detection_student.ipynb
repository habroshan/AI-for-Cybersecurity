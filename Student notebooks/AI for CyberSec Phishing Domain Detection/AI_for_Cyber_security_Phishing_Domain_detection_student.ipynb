{
  "cells": [
    {
      "cell_type": "markdown",
      "metadata": {
        "id": "rm9e1KExqtpi"
      },
      "source": [
        "# AI for Cyber Security Phishing domain detection\n",
        "\n",
        "Phishing domain detection\n",
        "\n",
        "## Phishing:\n",
        "\n",
        "Phishing is a cybercrime where attackers try to trick you into giving up sensitive information (like passwords, credit card numbers, or personal data). They often do this by posing as legitimate entities (e.g., banks, companies) in emails, texts, or fake websites that mimic real ones. The goal is to steal your information or install malware on your device.\n",
        "\n",
        "National Cyber Security Centre (UK):\n",
        "\n",
        "https://www.ncsc.gov.uk/guidance/phishing"
      ]
    },
    {
      "cell_type": "markdown",
      "metadata": {
        "id": "ruad5poAwSLd"
      },
      "source": [
        "## Dataset\n",
        "\n",
        "The dtataset used in this notebbok is:\n",
        "\n",
        "https://www.kaggle.com/datasets/siddharthkumar25/malicious-and-benign-urls\n",
        "\n",
        "This dataset contains malicious URLs and benign URLs that were created to help address the problem of malicious URLs on the internet. The data is gathered from various sources including PhisTank.\n",
        "\n",
        "The tags in the dataset are:\n",
        "*   benign: 0\n",
        "*   malicious: 1\n",
        "\n"
      ]
    },
    {
      "cell_type": "markdown",
      "metadata": {
        "id": "ReBCkXB5z819"
      },
      "source": [
        "# Importing the Liberaries"
      ]
    },
    {
      "cell_type": "code",
      "execution_count": null,
      "metadata": {
        "id": "DytyBpq-2NYE"
      },
      "outputs": [],
      "source": [
        "# import all the required liberaries"
      ]
    },
    {
      "cell_type": "code",
      "execution_count": null,
      "metadata": {},
      "outputs": [],
      "source": [
        "# read teh dataset and print the initial ros of the dataset "
      ]
    },
    {
      "cell_type": "code",
      "execution_count": null,
      "metadata": {
        "id": "AYwZwx892Wn5"
      },
      "outputs": [],
      "source": [
        "# check the shape of the dataset "
      ]
    },
    {
      "cell_type": "code",
      "execution_count": null,
      "metadata": {
        "id": "sczv3HhZ2bFC"
      },
      "outputs": [],
      "source": [
        "# check the data distribution using the data.info function "
      ]
    },
    {
      "cell_type": "markdown",
      "metadata": {
        "id": "okaRCaUV08Sd"
      },
      "source": [
        "## Feature Extraction"
      ]
    },
    {
      "cell_type": "code",
      "execution_count": null,
      "metadata": {
        "id": "r5FL1EfH2fo7"
      },
      "outputs": [],
      "source": [
        "# drop unnamed columns "
      ]
    },
    {
      "cell_type": "code",
      "execution_count": null,
      "metadata": {
        "id": "AGcqO7KA2lb-"
      },
      "outputs": [],
      "source": [
        "# analyze the data using the data.info function "
      ]
    },
    {
      "cell_type": "code",
      "execution_count": null,
      "metadata": {
        "id": "2hzWWnsZ2pOH"
      },
      "outputs": [],
      "source": [
        "# check shape of the data now"
      ]
    },
    {
      "cell_type": "code",
      "execution_count": null,
      "metadata": {
        "id": "tS4HvwZk2vMT"
      },
      "outputs": [],
      "source": [
        "# analyze the legit and fraud domains"
      ]
    },
    {
      "cell_type": "markdown",
      "metadata": {
        "id": "DzGHKrRF1k0x"
      },
      "source": [
        "### The extracted features are categorized into :\n",
        "\n",
        "*   Length based Features\n",
        "*   Count based Features\n",
        "*   Binary Features\n",
        "\n"
      ]
    },
    {
      "cell_type": "markdown",
      "metadata": {
        "id": "RV9x-o1G2BLM"
      },
      "source": [
        "#### Length Features\n",
        "\n",
        "The following features will be extracted from the URL for classification.\n",
        "\n",
        "* Length Of Url\n",
        "* Length of Hostname\n",
        "* Length Of Path\n",
        "* Length Of First Directory\n",
        "* Length Of Top Level Domain"
      ]
    },
    {
      "cell_type": "markdown",
      "metadata": {
        "id": "vaJ1H6lg2cqm"
      },
      "source": [
        "Length of URL (Phishers can use long URL to hide the doubtful part in the address bar)"
      ]
    },
    {
      "cell_type": "code",
      "execution_count": null,
      "metadata": {
        "id": "TKMcOEET2ykh"
      },
      "outputs": [],
      "source": [
        "# create url_length as a derived feature "
      ]
    },
    {
      "cell_type": "markdown",
      "metadata": {
        "id": "7JVwmSBV20h0"
      },
      "source": [
        "Hostname Length (The hostname usually is a clear indication of the phishing)"
      ]
    },
    {
      "cell_type": "code",
      "execution_count": null,
      "metadata": {
        "id": "cCn4mU1j22Pd"
      },
      "outputs": [],
      "source": [
        "# create hostname_length as a derived feature "
      ]
    },
    {
      "cell_type": "markdown",
      "metadata": {
        "id": "D5LjJcs_3Wwi"
      },
      "source": [
        "Path Length (exact location of the website's page)"
      ]
    },
    {
      "cell_type": "code",
      "execution_count": null,
      "metadata": {
        "id": "1tRBVaiJ3T_u"
      },
      "outputs": [],
      "source": [
        "# create path_length as a derived feature "
      ]
    },
    {
      "cell_type": "code",
      "execution_count": null,
      "metadata": {
        "id": "fVGJBSyR3aqy"
      },
      "outputs": [],
      "source": [
        "# print the first few rows of the dataset "
      ]
    },
    {
      "cell_type": "markdown",
      "metadata": {
        "id": "Ehpml3D75va7"
      },
      "source": [
        "#### Count Features\n",
        "The following features will be extracted from the URL for classification.\n",
        "\n",
        "* Count Of Special Characters\n",
        "* Count Of 'http'\n",
        "* Count Of 'www'\n",
        "* Count Of Digits\n",
        "* Count Of Letters"
      ]
    },
    {
      "cell_type": "code",
      "execution_count": null,
      "metadata": {
        "id": "7uz-hbwB3n-n"
      },
      "outputs": [],
      "source": [
        "# create special_character_count as a derived feature "
      ]
    },
    {
      "cell_type": "code",
      "execution_count": null,
      "metadata": {},
      "outputs": [],
      "source": [
        "# create count_http, count_https, count_www as derived features "
      ]
    },
    {
      "cell_type": "markdown",
      "metadata": {
        "id": "Hn1xOdoU732t"
      },
      "source": [
        "Counting the number of digits in the url"
      ]
    },
    {
      "cell_type": "code",
      "execution_count": null,
      "metadata": {
        "id": "QYB02TFP3r9U"
      },
      "outputs": [],
      "source": [
        "# create digit_count in url as a derived feature "
      ]
    },
    {
      "cell_type": "markdown",
      "metadata": {
        "id": "K-bd7yqT8Djl"
      },
      "source": [
        "counting the number of letters in the url"
      ]
    },
    {
      "cell_type": "code",
      "execution_count": null,
      "metadata": {
        "id": "xY5AiW7i3v7o"
      },
      "outputs": [],
      "source": [
        "# create letter_count in url as a derived feature "
      ]
    },
    {
      "cell_type": "code",
      "execution_count": null,
      "metadata": {
        "id": "HRo5u7mz3_m3"
      },
      "outputs": [],
      "source": [
        "# print the initial few rows of the dataset"
      ]
    },
    {
      "cell_type": "markdown",
      "metadata": {
        "id": "SSsxHRjC8fvT"
      },
      "source": [
        "#### Binary Features\n",
        "The following features will be extracted from the URL for classification.\n",
        "\n",
        "* Use of IP or not\n",
        "* Use of Shortening URL or not"
      ]
    },
    {
      "cell_type": "markdown",
      "metadata": {
        "id": "GAtB-rMO8oJc"
      },
      "source": [
        "##### IP Address in the URL\n",
        "Checks for the presence of IP address in the URL. URLs may have IP address instead of domain name. If an IP address is used as an alternative of the domain name in the URL, we can be sure that someone is trying to steal personal information with this URL."
      ]
    },
    {
      "cell_type": "markdown",
      "metadata": {
        "id": "QewFd7ls4Mim"
      },
      "source": [
        "![image.png](data:image/png;base64,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)"
      ]
    },
    {
      "cell_type": "code",
      "execution_count": null,
      "metadata": {
        "id": "mlvAffsv4MVB"
      },
      "outputs": [],
      "source": [
        "# taking the help of the given function derive the IP presence possibility"
      ]
    },
    {
      "cell_type": "markdown",
      "metadata": {
        "id": "ZeQBioEC9EjG"
      },
      "source": [
        "##### Using URL Shortening Services “TinyURL”\n",
        "URL shortening is a method on the “World Wide Web” in which a URL may be made considerably smaller in length and still lead to the required webpage. This is accomplished by means of an “HTTP Redirect” on a domain name that is short, which links to the webpage that has a long URL."
      ]
    },
    {
      "cell_type": "markdown",
      "metadata": {
        "id": "Gnqwmaqj4S05"
      },
      "source": [
        "![image.png](data:image/png;base64,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)"
      ]
    },
    {
      "cell_type": "code",
      "execution_count": null,
      "metadata": {
        "id": "m4nmpmxC4Smy"
      },
      "outputs": [],
      "source": [
        "# taking the help of the given function derive the url shortning possibility"
      ]
    },
    {
      "cell_type": "code",
      "execution_count": null,
      "metadata": {
        "id": "HtviqMMT9DmQ"
      },
      "outputs": [],
      "source": [
        "# print the initaial rows of the dataset"
      ]
    },
    {
      "cell_type": "code",
      "execution_count": null,
      "metadata": {
        "id": "Wdy7oB9T4k-S"
      },
      "outputs": [],
      "source": [
        "# print the data distribution using data.info function"
      ]
    },
    {
      "cell_type": "markdown",
      "metadata": {
        "id": "q9f-yvUT9fOZ"
      },
      "source": [
        "## data Exploration"
      ]
    },
    {
      "cell_type": "code",
      "execution_count": null,
      "metadata": {
        "id": "0sOENqWV4wtO"
      },
      "outputs": [],
      "source": [
        "# count the number of benign and maliciuous instances and plot a count plot"
      ]
    },
    {
      "cell_type": "markdown",
      "metadata": {
        "id": "sBkbbkF8Er4N"
      },
      "source": [
        "#### **Oversampling Imbalanced Dataset**\n",
        "\n",
        "During EDA we found that our dataset is Imbalanced,so we'll now use SMOTE method to oversample the dataset.\n",
        "\n",
        "\n",
        "#### **SMOTE (Synthetic Minority Oversampling Technique)**\n",
        "\n",
        "SMOTE is a technique used to address the problem of imbalanced datasets, where one class has significantly fewer examples than others. This imbalance can hinder machine learning models from learning the patterns of the minority class effectively.\n",
        "\n",
        "\n",
        "SMOTE works by generating synthetic samples for the minority class, rather than simply duplicating existing ones. Here's how:\n",
        "\n",
        "* **Find Neighbors:** For each sample in the minority class, SMOTE finds its k-nearest neighbors.\n",
        "* **Create Synthetic Samples:** New samples are generated by randomly interpolating between a minority sample and its neighbors.\n",
        "\n",
        "Further reading\n",
        "\n",
        "Original Paper by Chawla et. al.: https://www.jair.org/index.php/jair/article/view/10302"
      ]
    },
    {
      "cell_type": "code",
      "execution_count": null,
      "metadata": {
        "id": "5ZxKUOqM41FE"
      },
      "outputs": [],
      "source": [
        "# seperate the data into dependent and indipendent variables "
      ]
    },
    {
      "cell_type": "code",
      "execution_count": null,
      "metadata": {
        "id": "FckT8A_443wD"
      },
      "outputs": [],
      "source": [
        "# print the initial rows of the indipendent variabel "
      ]
    },
    {
      "cell_type": "code",
      "execution_count": null,
      "metadata": {
        "id": "KBLiW-Mn464D"
      },
      "outputs": [],
      "source": [
        "# print the shape of the indipendent variable "
      ]
    },
    {
      "cell_type": "code",
      "execution_count": null,
      "metadata": {
        "id": "ymKZQDAS4-kR"
      },
      "outputs": [],
      "source": [
        "# print the initial rows of the dependent variable "
      ]
    },
    {
      "cell_type": "code",
      "execution_count": null,
      "metadata": {
        "id": "KRR9Ybqc5EG-"
      },
      "outputs": [],
      "source": [
        "# print the shape of the dependent variable "
      ]
    },
    {
      "cell_type": "code",
      "execution_count": null,
      "metadata": {
        "id": "5gID70WE5Hb1"
      },
      "outputs": [],
      "source": [
        "# perform oversampling using SMOTE technique"
      ]
    },
    {
      "cell_type": "code",
      "execution_count": null,
      "metadata": {
        "id": "6vCBDtQa5KoQ"
      },
      "outputs": [],
      "source": [
        "# convert all teh variables into pandas dataframe "
      ]
    },
    {
      "cell_type": "code",
      "execution_count": null,
      "metadata": {
        "id": "qTzuxWQs5Nyn"
      },
      "outputs": [],
      "source": [
        "# check shape of the data"
      ]
    },
    {
      "cell_type": "markdown",
      "metadata": {
        "id": "qFGck2_BDzY-"
      },
      "source": [
        "## Models\n",
        "We will use the following models for this binar classification problem\n",
        "\n",
        "*  Random Forest\n",
        "*  MLP (Multi Layer Perceptron)"
      ]
    },
    {
      "cell_type": "markdown",
      "metadata": {
        "id": "9MidtCqHMijD"
      },
      "source": [
        "### Data Splitting"
      ]
    },
    {
      "cell_type": "code",
      "execution_count": null,
      "metadata": {
        "id": "uNmPkiRn5Rgw"
      },
      "outputs": [],
      "source": [
        "# split the data into test and train variabes and check their shapes "
      ]
    },
    {
      "cell_type": "markdown",
      "metadata": {
        "id": "7ZcsthhMMo_D"
      },
      "source": [
        "### Random Forest\n",
        "Random forests or random decision forests are an ensemble learning method for classification, regression and other tasks that operates by constructing a multitude of decision trees at training time. For classification tasks, the output of the random forest is the class selected by most trees."
      ]
    },
    {
      "cell_type": "code",
      "execution_count": null,
      "metadata": {
        "id": "qBJwC8GM5U13"
      },
      "outputs": [],
      "source": [
        "# initialize the random forest classifier\n",
        "# train the model using train data"
      ]
    },
    {
      "cell_type": "markdown",
      "metadata": {
        "id": "YTYxEIF9My6A"
      },
      "source": [
        "#### model performance evaluation"
      ]
    },
    {
      "cell_type": "code",
      "execution_count": null,
      "metadata": {
        "id": "w704cDCw5YL2"
      },
      "outputs": [],
      "source": [
        "# make predictions using the test data \n",
        "# calculate the accuracies and print them"
      ]
    },
    {
      "cell_type": "markdown",
      "metadata": {
        "id": "30OrAw44M4jo"
      },
      "source": [
        "calculating other classification metrics"
      ]
    },
    {
      "cell_type": "code",
      "execution_count": null,
      "metadata": {
        "id": "QLnhvmt85bRk"
      },
      "outputs": [],
      "source": [
        "# claculate accuracy report "
      ]
    },
    {
      "cell_type": "markdown",
      "metadata": {
        "id": "_-UiNixRNA67"
      },
      "source": [
        "### Multilayer Perceptron (Deep Learning)\n",
        "A multilayer perceptron (MLP) is a feedforward artificial neural network that generates a set of outputs from a set of inputs. An MLP is characterized by several layers of input nodes connected as a directed graph between the input and output layers. MLP uses backpropogation for training the network."
      ]
    },
    {
      "cell_type": "code",
      "execution_count": null,
      "metadata": {
        "id": "HOYH9RA-5eHm"
      },
      "outputs": [],
      "source": [
        "# import liberaries from tensorflow "
      ]
    },
    {
      "cell_type": "markdown",
      "metadata": {
        "id": "kOhOMCnRObC-"
      },
      "source": [
        "#### Model building"
      ]
    },
    {
      "cell_type": "code",
      "execution_count": null,
      "metadata": {
        "id": "Lss0Hty95lof"
      },
      "outputs": [],
      "source": [
        "# build a simple model using sequential api from tensorflow\n",
        "# print the summary of the model"
      ]
    },
    {
      "cell_type": "markdown",
      "metadata": {
        "id": "ga7R1A3NOc3Y"
      },
      "source": [
        "#### Model complilation"
      ]
    },
    {
      "cell_type": "code",
      "execution_count": null,
      "metadata": {
        "id": "1ZIRS9h75puG"
      },
      "outputs": [],
      "source": [
        "# compile the model with reduced learning rate "
      ]
    },
    {
      "cell_type": "markdown",
      "metadata": {
        "id": "MeZmYDvGOgT7"
      },
      "source": [
        "#### Model Fitting"
      ]
    },
    {
      "cell_type": "code",
      "execution_count": null,
      "metadata": {
        "id": "LjKj389h5tFw"
      },
      "outputs": [],
      "source": [
        "# train the model using training data"
      ]
    },
    {
      "cell_type": "markdown",
      "metadata": {
        "id": "zJTq3rgXOVlu"
      },
      "source": [
        "#### Model Performance Evaluation"
      ]
    },
    {
      "cell_type": "code",
      "execution_count": null,
      "metadata": {
        "id": "cEvEBhO75v9i"
      },
      "outputs": [],
      "source": [
        "# plot the loss curves and accuracy curves "
      ]
    }
  ],
  "metadata": {
    "colab": {
      "provenance": []
    },
    "kernelspec": {
      "display_name": "Python 3",
      "name": "python3"
    },
    "language_info": {
      "name": "python"
    }
  },
  "nbformat": 4,
  "nbformat_minor": 0
}
