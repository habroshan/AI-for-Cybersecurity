{
  "cells": [
    {
      "cell_type": "markdown",
      "metadata": {
        "id": "-QTe2YuLVVnv"
      },
      "source": [
        "# AI for Cyber Secuity network malware detection\n",
        "Malware Detection using newtork traffic data\n"
      ]
    },
    {
      "cell_type": "markdown",
      "metadata": {
        "id": "NaLZ2kwyzLyB"
      },
      "source": [
        "**Malware:**\n",
        "\n",
        "Malware, short for malicious software, encompasses any software intentionally designed to cause harm to data, devices, or people.\n",
        "\n",
        "**Understanding the data:**\n",
        "\n",
        "The datasets in this notebook were taken from the given huggingface repository\n",
        "\n",
        "Link:\n",
        "https://huggingface.co/Sellibro/Malware_Detection_with_Deep_Learning/tree/main\n",
        "\n",
        "The data contains two files\n",
        "\n",
        "*   malicious_flows.csv\n",
        "*   sample_benign_flows.csv\n",
        "\n",
        "The data is curated on a private network with simulated malware attacks in the network. The CSV files shows data collected from network monitoring, packet tracing and specific malware signature detection.  \n",
        "\n",
        "the data comprises of 16,467 entries and 439 features per entry for the malicious_flows.csv file and 24,999  enteries and 439 features per entry for the sample_benign_flows.csv file.\n",
        "\n",
        "Some of the columns are\n",
        "\n",
        "1.   **Src_Port:** port number on the source device\n",
        "\n",
        "2.   **Dst_Port:**  port number on the destination device\n",
        "3.   **Bytes_in:**  number of bytes transferred from the source to the destination\n",
        "4.   **Bytes_out:** number of bytes transferred from the destination back to the source\n",
        "5.   **Pkts_in:**  number of packets received by the destination\n",
        "6.   **Pkts_out:** number of packets sent from the destination\n",
        "7.   **entropy:** measure of randomness or unpredictability in the data flow\n",
        "8.   **byte_dist_std:** Byte Distribution Standard Deviation\n",
        "9.   **byte_dist_mn:** Byte Distribution Mean\n",
        "10.  **num_of_exts:** Number of Extensions\n",
        "11.  **isMalware:** 1 for malicious, 0 for benign\n",
        "12.  Rest of the columns represent a specific signature of the malware which can be monitored indipendently for different types of malwares\n",
        "\n",
        "\n",
        "\n",
        "\n",
        "\n",
        "\n",
        "\n",
        "\n",
        "\n",
        "\n",
        "\n",
        "\n",
        "\n"
      ]
    },
    {
      "cell_type": "markdown",
      "metadata": {
        "id": "eNP8Zjomn6N4"
      },
      "source": [
        "# Data Exploration"
      ]
    },
    {
      "cell_type": "code",
      "execution_count": null,
      "metadata": {
        "id": "IoXQm4ultLwG"
      },
      "outputs": [],
      "source": [
        "# import pandas\n",
        "# load the datset given, and add a type column to the dataset  "
      ]
    },
    {
      "cell_type": "code",
      "execution_count": null,
      "metadata": {
        "id": "HA3tbO-ztSRr"
      },
      "outputs": [],
      "source": [
        "# print the initial few rows of the malicious_flows "
      ]
    },
    {
      "cell_type": "code",
      "execution_count": null,
      "metadata": {
        "id": "7VqRfv8EtWNE"
      },
      "outputs": [],
      "source": [
        "# print the initial few rows of the benign_flows "
      ]
    },
    {
      "cell_type": "code",
      "execution_count": null,
      "metadata": {
        "id": "XULUfZRftcj3"
      },
      "outputs": [],
      "source": [
        "# create a combined dataset using the benign and malicious flows "
      ]
    },
    {
      "cell_type": "code",
      "execution_count": null,
      "metadata": {
        "id": "tK9OOUJbon5A"
      },
      "outputs": [],
      "source": [
        "# select the subset of features for analysis"
      ]
    },
    {
      "cell_type": "code",
      "execution_count": null,
      "metadata": {
        "id": "tPh31k02osRi"
      },
      "outputs": [],
      "source": [
        "# create a correlation matrix using the the data "
      ]
    },
    {
      "cell_type": "code",
      "execution_count": null,
      "metadata": {
        "id": "cgIFaa-DvBE4"
      },
      "outputs": [],
      "source": [
        "# visualize the correlation matrix using a heatmap "
      ]
    },
    {
      "cell_type": "code",
      "execution_count": null,
      "metadata": {
        "id": "iDUHADHPvIeu"
      },
      "outputs": [],
      "source": [
        "# plot the count of the benign and malicious flows using a count plot"
      ]
    },
    {
      "cell_type": "markdown",
      "metadata": {
        "id": "BckRmq-2V7sB"
      },
      "source": [
        "# Data Preprocessing"
      ]
    },
    {
      "cell_type": "code",
      "execution_count": null,
      "metadata": {
        "id": "gURqb2JFvOUa"
      },
      "outputs": [],
      "source": [
        "# reload the base data to be used for training the model "
      ]
    },
    {
      "cell_type": "code",
      "execution_count": null,
      "metadata": {
        "id": "8ImirEQbvXh2"
      },
      "outputs": [],
      "source": [
        "# combine the datasets "
      ]
    },
    {
      "cell_type": "code",
      "execution_count": null,
      "metadata": {
        "id": "7WulU1cNvcYq"
      },
      "outputs": [],
      "source": [
        "# remove the duplicated data"
      ]
    },
    {
      "cell_type": "code",
      "execution_count": null,
      "metadata": {
        "id": "Xqdxk0CwvgUr"
      },
      "outputs": [],
      "source": [
        "# drop all the null values from the datset "
      ]
    },
    {
      "cell_type": "code",
      "execution_count": null,
      "metadata": {
        "id": "B7MktArlvjok"
      },
      "outputs": [],
      "source": [
        "# seperate indipendent and dependent variable "
      ]
    },
    {
      "cell_type": "markdown",
      "metadata": {
        "id": "kUCrh6toxnEM"
      },
      "source": [
        "# Data Normalization"
      ]
    },
    {
      "cell_type": "code",
      "execution_count": null,
      "metadata": {
        "id": "1MonWI1Dvn-B"
      },
      "outputs": [],
      "source": [
        "# normalize the data using the min_max_scalar "
      ]
    },
    {
      "cell_type": "markdown",
      "metadata": {
        "id": "tdPmRqcGWnA3"
      },
      "source": [
        "# Data Splitting"
      ]
    },
    {
      "cell_type": "code",
      "execution_count": null,
      "metadata": {
        "id": "Uq9wsiTcvsZi"
      },
      "outputs": [],
      "source": [
        "# split the dataset using test_train_split from sklearn"
      ]
    },
    {
      "cell_type": "markdown",
      "metadata": {
        "id": "xMak2qkTa5Gl"
      },
      "source": [
        "# Baseline Model"
      ]
    },
    {
      "cell_type": "code",
      "execution_count": null,
      "metadata": {
        "id": "hrqnUMl8vwoV"
      },
      "outputs": [],
      "source": [
        "# Initialize the logistic regression model \n",
        "# train the model using the training data "
      ]
    },
    {
      "cell_type": "code",
      "execution_count": null,
      "metadata": {
        "id": "rZg5IOHPvzph"
      },
      "outputs": [],
      "source": [
        "# make predictions using the test data and evaluate the model \n",
        " "
      ]
    },
    {
      "cell_type": "markdown",
      "metadata": {
        "id": "vXvguLpbboja"
      },
      "source": [
        "# Random Forest Classifier"
      ]
    },
    {
      "cell_type": "code",
      "execution_count": null,
      "metadata": {
        "id": "607R4OR7v3wW"
      },
      "outputs": [],
      "source": [
        "# initialize the Random forest classifier model\n",
        "# train the model using the train data "
      ]
    },
    {
      "cell_type": "code",
      "execution_count": null,
      "metadata": {
        "id": "JuD-RYRlv7A0"
      },
      "outputs": [],
      "source": [
        "# Make predictions uisng the test set\n",
        "# fincalculate the accuracy of the model"
      ]
    },
    {
      "cell_type": "code",
      "execution_count": null,
      "metadata": {
        "id": "H017LbhiwDEW"
      },
      "outputs": [],
      "source": [
        "# Perform k-fold corss-validation "
      ]
    },
    {
      "cell_type": "code",
      "execution_count": null,
      "metadata": {
        "id": "TsW0o-sxwGCR"
      },
      "outputs": [],
      "source": [
        "# calculate and print the average scores accross all folds"
      ]
    },
    {
      "cell_type": "markdown",
      "metadata": {
        "id": "2qMPJHy_Xdax"
      },
      "source": [
        "# ANN Model"
      ]
    },
    {
      "cell_type": "code",
      "execution_count": null,
      "metadata": {
        "id": "BsL1VN_DwJf0"
      },
      "outputs": [],
      "source": [
        "# create a basic tensorflow model using dense layers "
      ]
    },
    {
      "cell_type": "code",
      "execution_count": null,
      "metadata": {
        "id": "Frbhp72BwNl9"
      },
      "outputs": [],
      "source": [
        "# compile the model"
      ]
    },
    {
      "cell_type": "code",
      "execution_count": null,
      "metadata": {
        "id": "mtyQLx2hwQrS"
      },
      "outputs": [],
      "source": [
        "# print the summary of the model"
      ]
    },
    {
      "cell_type": "code",
      "execution_count": null,
      "metadata": {
        "id": "_dCYKhW2wT5A"
      },
      "outputs": [],
      "source": [
        "# Train the model using test data"
      ]
    },
    {
      "cell_type": "code",
      "execution_count": null,
      "metadata": {
        "id": "KYjv3G-Ew9_u"
      },
      "outputs": [],
      "source": [
        "# evaluate the model using test data"
      ]
    },
    {
      "cell_type": "markdown",
      "metadata": {
        "id": "aAOc5NoiyrfA"
      },
      "source": [
        "# Evaluating different models"
      ]
    },
    {
      "cell_type": "code",
      "execution_count": null,
      "metadata": {
        "id": "Sxz5wVMTxLdB"
      },
      "outputs": [],
      "source": [
        "# print the accuracy of all the models"
      ]
    },
    {
      "cell_type": "markdown",
      "metadata": {
        "id": "K-X6e8VBxRTe"
      },
      "source": [
        "![image.png](data:image/png;base64,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)"
      ]
    },
    {
      "cell_type": "code",
      "execution_count": null,
      "metadata": {
        "id": "iKf3u8CJxRGO"
      },
      "outputs": [],
      "source": [
        "# Plot a graph to compare accuracies of all mdoels using a bar graph, take help of the code above"
      ]
    }
  ],
  "metadata": {
    "colab": {
      "provenance": [],
      "toc_visible": true
    },
    "kernelspec": {
      "display_name": "Python 3",
      "name": "python3"
    },
    "language_info": {
      "name": "python"
    }
  },
  "nbformat": 4,
  "nbformat_minor": 0
}
