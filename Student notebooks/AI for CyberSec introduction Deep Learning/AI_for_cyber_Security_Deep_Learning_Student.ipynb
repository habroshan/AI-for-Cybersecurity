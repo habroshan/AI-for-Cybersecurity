{
  "cells": [
    {
      "cell_type": "markdown",
      "metadata": {
        "id": "7TXs4Uu0SClq"
      },
      "source": [
        "#AI for Cyber Security\n",
        "Understanding unsupervised Deep learning"
      ]
    },
    {
      "cell_type": "markdown",
      "metadata": {
        "id": "mUQwVy-wSK-x"
      },
      "source": [
        "#Deep Learning\n",
        "\n",
        "Deep learning is a powerful subset of machine learning that uses artificial neural networks with multiple layers to learn complex patterns from large datasets.  Inspired by the way the human brain works, deep learning excels in tasks like image recognition, speech recognition, and natural language processing.\n",
        "\n",
        "\n",
        "##Basic Types:\n",
        "###**Feedforward Neural Networks** (FNNs):\n",
        "\n",
        "This is the simplest ANN type. Data flows in one direction, from input to output layers. There are no feedback loops or cycles.\n",
        "\n",
        "###**Multilayer Perceptrons** (MLPs):\n",
        "\n",
        "MLPs are a type of FNN with multiple hidden layers between input and output. This allows them to learn complex, non-linear relationships.\n",
        "\n",
        "\n",
        "###**Convolutional Neural Networks** (CNNs):\n",
        "\n",
        "Primarily used for image and video analysis, CNNs automatically extract relevant features for classification and object detection.\n",
        "\n",
        "\n",
        "###**Recurrent Neural Networks** (RNNs):\n",
        "\n",
        "Designed to process sequential data (e.g., text, time-series, audio). RNNs have a \"memory\" capacity, making them perfect for language modeling and machine translation.\n",
        "\n",
        "Further Reading\n",
        "\n",
        "TensorFlow Deep Learning Tutorials: https://www.tensorflow.org/tutorials"
      ]
    },
    {
      "cell_type": "markdown",
      "metadata": {
        "id": "CUBRONGGT0iR"
      },
      "source": [
        "# Impoting necessary liberaries"
      ]
    },
    {
      "cell_type": "code",
      "execution_count": null,
      "metadata": {
        "id": "LlcCee7oluc9"
      },
      "outputs": [],
      "source": [
        "# Import necessary liberaries"
      ]
    },
    {
      "cell_type": "markdown",
      "metadata": {
        "id": "e_CdZD84T7Fd"
      },
      "source": [
        "# Loading the Dataset\n",
        "\n",
        "Loading and dataset into train and test sets"
      ]
    },
    {
      "cell_type": "code",
      "execution_count": null,
      "metadata": {
        "id": "SMegjN-Al212"
      },
      "outputs": [],
      "source": [
        "# download data using the mnist.load_data function into train and test variables"
      ]
    },
    {
      "cell_type": "markdown",
      "metadata": {
        "id": "-APxqjfFVh98"
      },
      "source": [
        "### Data Exploration"
      ]
    },
    {
      "cell_type": "code",
      "execution_count": null,
      "metadata": {
        "id": "CHyuwrlAl88Q"
      },
      "outputs": [],
      "source": [
        "# diaplay first few images from the training set with labels\n",
        "# use matplotlib's imshow function "
      ]
    },
    {
      "cell_type": "markdown",
      "metadata": {
        "id": "OqoLQTO6UO8N"
      },
      "source": [
        "### Data preprocessing"
      ]
    },
    {
      "cell_type": "code",
      "execution_count": null,
      "metadata": {
        "id": "JtMqy7oCmB5H"
      },
      "outputs": [],
      "source": [
        "# reshape the images into 28*28 pixels shape\n",
        "# perform data normalization"
      ]
    },
    {
      "cell_type": "code",
      "execution_count": null,
      "metadata": {
        "id": "CiFyJBWXmPV0"
      },
      "outputs": [],
      "source": [
        "# convert train and test labels into categorical variables"
      ]
    },
    {
      "cell_type": "markdown",
      "metadata": {
        "id": "3NnksdWNUu5Z"
      },
      "source": [
        "### Building the Model"
      ]
    },
    {
      "cell_type": "code",
      "execution_count": null,
      "metadata": {
        "id": "v7p19sz1mVHe"
      },
      "outputs": [],
      "source": [
        "# build a simple convlutional model using tensorflow's sequential API\n",
        "# use Conv2D layers and MaxPooling2D layers\n",
        "# finally end the model using a flatten layers and a output layer "
      ]
    },
    {
      "cell_type": "code",
      "execution_count": null,
      "metadata": {
        "id": "-qlzixfcmaNp"
      },
      "outputs": [],
      "source": [
        "# compile the model\n",
        "# use proper optimizer, loss function and metrics"
      ]
    },
    {
      "cell_type": "code",
      "execution_count": null,
      "metadata": {
        "id": "dVX0IRMLmrB7"
      },
      "outputs": [],
      "source": [
        "# Train the model using training data for 5 epochs\n",
        "# set an appropriate batch size"
      ]
    },
    {
      "cell_type": "markdown",
      "metadata": {
        "id": "Qh2BQvygU4XH"
      },
      "source": [
        "# Model Evaluation"
      ]
    },
    {
      "cell_type": "code",
      "execution_count": null,
      "metadata": {
        "id": "uJy4WWeNmu0t"
      },
      "outputs": [],
      "source": [
        "# evaluate the model using test_images and test_labels"
      ]
    },
    {
      "cell_type": "code",
      "execution_count": null,
      "metadata": {
        "id": "fs26L9LJm1WK"
      },
      "outputs": [],
      "source": [
        "# Plot the model's accuracy over the epochs using the history variable"
      ]
    },
    {
      "cell_type": "code",
      "execution_count": null,
      "metadata": {
        "id": "eNe3dn2om5h3"
      },
      "outputs": [],
      "source": [
        "# Plot the model's loss over the epochs using the history variable"
      ]
    },
    {
      "cell_type": "code",
      "execution_count": null,
      "metadata": {
        "id": "CmBIg-9dm-jJ"
      },
      "outputs": [],
      "source": [
        "# write a function to visulaize the model's predictoins and true labels "
      ]
    }
  ],
  "metadata": {
    "colab": {
      "provenance": []
    },
    "kernelspec": {
      "display_name": "Python 3",
      "name": "python3"
    },
    "language_info": {
      "name": "python"
    }
  },
  "nbformat": 4,
  "nbformat_minor": 0
}
