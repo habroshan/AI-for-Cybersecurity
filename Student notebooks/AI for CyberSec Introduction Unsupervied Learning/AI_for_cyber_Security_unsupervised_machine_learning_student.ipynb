{
  "cells": [
    {
      "cell_type": "markdown",
      "metadata": {
        "id": "jV7PgKrHCPxr"
      },
      "source": [
        "# AI for Cyber Security\n",
        "Understanding unsupervised machine learning\n",
        "\n",
        "## Unsupervised Learning\n",
        "Focuses on finding patterns and insights within unlabeled datasets (datasets without a predefined target variable).\n",
        "\n",
        "the main goal is to uncover hidden structure, group similar data points, or reduce complexity by representing data in new ways.\n",
        "\n",
        "## Clustering\n",
        "Group data points into clusters based on similarity.\n",
        "\n",
        "types:\n",
        "*   K-Means\n",
        "*   Hierarchical Clustering\n",
        "\n",
        "## Dimensionality Reduction\n",
        "Reduce the number of features while preserving important information.\n",
        "\n",
        "types:\n",
        "\n",
        "*   Principal Component Analysis (PCA)\n",
        "*   t-Distributed Stochastic Neighbor Embedding (t-SNE)\n",
        "\n",
        "for further reading\n",
        "\n",
        "Link: https://www.ibm.com/topics/unsupervised-learning"
      ]
    },
    {
      "cell_type": "markdown",
      "metadata": {
        "id": "7POjjT11DU0r"
      },
      "source": [
        "## Lookig at k-means clustering example\n"
      ]
    },
    {
      "cell_type": "markdown",
      "metadata": {
        "id": "RyUHgyYrD-rE"
      },
      "source": [
        "## K-means Clustering\n",
        "\n",
        "K-means is an unsupervised learning algorithm that aims to group unlabeled data points into 'K' clusters based on their similarity.\n",
        "\n",
        "How it works:\n",
        "\n",
        "1. Choose a number of clusters (K).\n",
        "2. Randomly place K centroids (cluster centers) in the data space.\n",
        "3. Assign each data point to the nearest centroid.\n",
        "4. Update centroids by calculating the mean of the points in each cluster.\n",
        "5. Repeat steps 3-4 until convergence (centroids no longer move significantly)."
      ]
    },
    {
      "cell_type": "code",
      "execution_count": null,
      "metadata": {
        "id": "6Nr7HhqmrE4x"
      },
      "outputs": [],
      "source": [
        "# import all the required liberaries "
      ]
    },
    {
      "cell_type": "markdown",
      "metadata": {
        "id": "SfQPn_A3GRXZ"
      },
      "source": [
        "## Load Data"
      ]
    },
    {
      "cell_type": "code",
      "execution_count": null,
      "metadata": {
        "id": "_r2-A6vDrLLd"
      },
      "outputs": [],
      "source": [
        "# initialize the dataset variable \n",
        "# create a dataframe using the fearures and target from the dataset variable"
      ]
    },
    {
      "cell_type": "code",
      "execution_count": null,
      "metadata": {
        "id": "lOYj_vserO-M"
      },
      "outputs": [],
      "source": [
        "# display the initial roes of the dataframe"
      ]
    },
    {
      "cell_type": "markdown",
      "metadata": {
        "id": "b0yxwKYIGn4y"
      },
      "source": [
        "## Data Exploration"
      ]
    },
    {
      "cell_type": "code",
      "execution_count": null,
      "metadata": {
        "id": "9zut3kzSrR1U"
      },
      "outputs": [],
      "source": [
        "# perform data analysis using data.info function "
      ]
    },
    {
      "cell_type": "code",
      "execution_count": null,
      "metadata": {
        "id": "P3Jj9SEBrbXc"
      },
      "outputs": [],
      "source": [
        "# analyze the dataset using data.describe() function"
      ]
    },
    {
      "cell_type": "code",
      "execution_count": null,
      "metadata": {
        "id": "HZqsWVUMrf1A"
      },
      "outputs": [],
      "source": [
        "# visualize the correlation matrix using a heatmap"
      ]
    },
    {
      "cell_type": "markdown",
      "metadata": {
        "id": "idL7PpQFGVHh"
      },
      "source": [
        "## Data pre processing"
      ]
    },
    {
      "cell_type": "code",
      "execution_count": null,
      "metadata": {
        "id": "JO7n-IYirpRl"
      },
      "outputs": [],
      "source": [
        "# drop the headings in the dataset"
      ]
    },
    {
      "cell_type": "code",
      "execution_count": null,
      "metadata": {
        "id": "H8em3CX2rtlz"
      },
      "outputs": [],
      "source": [
        "# use the standerd scalar to scale the data"
      ]
    },
    {
      "cell_type": "code",
      "execution_count": null,
      "metadata": {
        "id": "th9Jq-uYryT0"
      },
      "outputs": [],
      "source": [
        "# convert the data into tensorflow constant tensors "
      ]
    },
    {
      "cell_type": "markdown",
      "metadata": {
        "id": "LRZGomL-I213"
      },
      "source": [
        "## Model creation"
      ]
    },
    {
      "cell_type": "code",
      "execution_count": null,
      "metadata": {
        "id": "c9I_WHmmsL5p"
      },
      "outputs": [],
      "source": [
        "# define the number of clusters"
      ]
    },
    {
      "cell_type": "code",
      "execution_count": null,
      "metadata": {
        "id": "EUXM30pasO8p"
      },
      "outputs": [],
      "source": [
        "# initialize the ccentroids randomly as tensorflow variables "
      ]
    },
    {
      "cell_type": "markdown",
      "metadata": {
        "id": "5ZxPXqM3sTgH"
      },
      "source": [
        "![image.png](data:image/png;base64,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)"
      ]
    },
    {
      "cell_type": "code",
      "execution_count": null,
      "metadata": {
        "id": "OtyuzD5TsTLO"
      },
      "outputs": [],
      "source": [
        "# write a function to apply k_means clustering algorithm to the data using the centroids \n",
        "# refer to the code to set up the loop"
      ]
    },
    {
      "cell_type": "markdown",
      "metadata": {
        "id": "_A7KDKlTI-Mq"
      },
      "source": [
        "## Training the model"
      ]
    },
    {
      "cell_type": "code",
      "execution_count": null,
      "metadata": {
        "id": "HRgTPrLysYux"
      },
      "outputs": [],
      "source": [
        "# Train the dataset for 100 epochs and update the centroid in each step"
      ]
    },
    {
      "cell_type": "code",
      "execution_count": null,
      "metadata": {
        "id": "I1cLJEZyscUb"
      },
      "outputs": [],
      "source": [
        "# Convert Tensorflow tensors to numpy arrays for plotting"
      ]
    },
    {
      "cell_type": "markdown",
      "metadata": {
        "id": "Bjx2X6_TJ7Z8"
      },
      "source": [
        "## Silhouette Score\n",
        "\n",
        "The silhouette score is a metric used to evaluate the quality of clustering results. For each data point, it provides a measure of how similar it is to its own cluster (cohesion) compared to other clusters (separation).\n",
        "\n",
        "1. Range: -1 to +1\n",
        "2. Interpretation:\n",
        "Higher values indicate better clustering; scores near 0 suggest overlapping clusters.\n",
        "\n",
        "documnetation : https://scikit-learn.org/stable/modules/generated/sklearn.metrics.silhouette_score.html"
      ]
    },
    {
      "cell_type": "code",
      "execution_count": null,
      "metadata": {
        "id": "U7At8D6FsjQO"
      },
      "outputs": [],
      "source": [
        "# Analyze the data using the silhouette score "
      ]
    },
    {
      "cell_type": "markdown",
      "metadata": {
        "id": "3buKX6avKI8y"
      },
      "source": [
        "## Visual inspection of model performance"
      ]
    },
    {
      "cell_type": "code",
      "execution_count": null,
      "metadata": {
        "id": "s0Ytjlxgsnfz"
      },
      "outputs": [],
      "source": [
        "# visualize and plot the data points and centroids suing scatter plot"
      ]
    }
  ],
  "metadata": {
    "colab": {
      "provenance": []
    },
    "kernelspec": {
      "display_name": "Python 3",
      "name": "python3"
    },
    "language_info": {
      "name": "python"
    }
  },
  "nbformat": 4,
  "nbformat_minor": 0
}
